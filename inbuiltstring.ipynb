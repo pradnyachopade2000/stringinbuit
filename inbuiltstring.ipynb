{
 "cells": [
  {
   "cell_type": "code",
   "execution_count": 8,
   "id": "0a7d3dc3-b65c-4459-b616-54fcc2585fb0",
   "metadata": {},
   "outputs": [
    {
     "name": "stdout",
     "output_type": "stream",
     "text": [
      "7\n"
     ]
    }
   ],
   "source": [
    "#1. What is the purpose of the len() function in Python, and how can it be used with strings?\n",
    "#The len() function returns the number of items in an object. When the object is a string, the len() function returns the number of characters in the string.\n",
    "\n",
    "\n",
    "x=len(\"Pradnya\")\n",
    "print(x)"
   ]
  },
  {
   "cell_type": "code",
   "execution_count": 9,
   "id": "2917612f-56b4-4b4e-aaf5-d72f917bc1c7",
   "metadata": {},
   "outputs": [
    {
     "name": "stdout",
     "output_type": "stream",
     "text": [
      "PradnyaChopade\n"
     ]
    }
   ],
   "source": [
    "#2. How can you concatenate two or more strings in Python, and can you provide an example of string concatenation?\n",
    "#To concatenate, or combine, two strings you can use the + operator.\n",
    "\n",
    "a = \"Pradnya\"\n",
    "b = \"Chopade\"\n",
    "c = a + b\n",
    "print(c)\n"
   ]
  },
  {
   "cell_type": "code",
   "execution_count": 10,
   "id": "e4e0bbe8-15a8-4dcd-b67f-2a15d7bd620b",
   "metadata": {},
   "outputs": [
    {
     "name": "stdout",
     "output_type": "stream",
     "text": [
      "comePython\n"
     ]
    }
   ],
   "source": [
    "#3. What is string slicing in Python, and how can you extract a portion of a string using this method?\n",
    "#String slicing in Python refers to the process of extracting a portion (substring) of a string by specifying the start and end indices\n",
    "\n",
    "b = \"WelcomePython!\"\n",
    "print(b[3:13])"
   ]
  },
  {
   "cell_type": "code",
   "execution_count": 12,
   "id": "70f346fb-236f-4d44-83fe-f93f3f9cc91e",
   "metadata": {},
   "outputs": [
    {
     "name": "stdout",
     "output_type": "stream",
     "text": [
      "WELCOME TO PYTHON\n"
     ]
    }
   ],
   "source": [
    "#4. How can you change the case of a string in Python, and can you provide examples of both making a string all uppercase and all lowercase?\n",
    "\n",
    "#upper() method on a string converts all of the characters to uppercase, whereas the lower() method converts all of the characters to lowercase.\n",
    "\n",
    "x = \"welcome to python\"\n",
    "y = x.upper()\n",
    "print(y)\n",
    "\n",
    "\n",
    "\n"
   ]
  },
  {
   "cell_type": "code",
   "execution_count": 14,
   "id": "759757e1-6b05-4b90-b319-f2d03f283a7e",
   "metadata": {},
   "outputs": [
    {
     "name": "stdout",
     "output_type": "stream",
     "text": [
      "['welcome', 'to', 'pw', 'skills', 'classes', 'assignment']\n"
     ]
    }
   ],
   "source": [
    "#5. What does the split() method do in Python, and how can you split a string using a specific delimiter?\n",
    "#The split() function can be used to split a given string or a line by specifying one of the substrings of the given string as the delimiter. The string before and after the substring specified as a delimiter is returned as the output.\n",
    "\n",
    "\n",
    "\n",
    "a = \"welcome to pw skills classes assignment\"\n",
    "\n",
    "b = a.split()\n",
    "\n",
    "print(b)\n"
   ]
  },
  {
   "cell_type": "code",
   "execution_count": null,
   "id": "c513d602-4333-4e0b-9e04-384fa75e946f",
   "metadata": {},
   "outputs": [],
   "source": []
  }
 ],
 "metadata": {
  "kernelspec": {
   "display_name": "Python 3 (ipykernel)",
   "language": "python",
   "name": "python3"
  },
  "language_info": {
   "codemirror_mode": {
    "name": "ipython",
    "version": 3
   },
   "file_extension": ".py",
   "mimetype": "text/x-python",
   "name": "python",
   "nbconvert_exporter": "python",
   "pygments_lexer": "ipython3",
   "version": "3.10.8"
  }
 },
 "nbformat": 4,
 "nbformat_minor": 5
}
